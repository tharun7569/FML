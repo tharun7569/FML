{
  "nbformat": 4,
  "nbformat_minor": 0,
  "metadata": {
    "colab": {
      "provenance": [],
      "authorship_tag": "ABX9TyNhQUI0l724T1N5AkzZWFIf",
      "include_colab_link": true
    },
    "kernelspec": {
      "name": "python3",
      "display_name": "Python 3"
    },
    "language_info": {
      "name": "python"
    }
  },
  "cells": [
    {
      "cell_type": "markdown",
      "metadata": {
        "id": "view-in-github",
        "colab_type": "text"
      },
      "source": [
        "<a href=\"https://colab.research.google.com/github/tharun7569/FML/blob/main/numpy.ipynb\" target=\"_parent\"><img src=\"https://colab.research.google.com/assets/colab-badge.svg\" alt=\"Open In Colab\"/></a>"
      ]
    },
    {
      "cell_type": "markdown",
      "metadata": {
        "id": "XLqk-LkB2JQU"
      },
      "source": [
        "## Numpy"
      ]
    },
    {
      "cell_type": "markdown",
      "metadata": {
        "id": "fY12nHhyL9hX"
      },
      "source": [
        "Numpy is the core library for scientific computing in Python. It provides a high-performance multidimensional array object, and tools for working with these arrays."
      ]
    },
    {
      "cell_type": "markdown",
      "metadata": {
        "id": "lZMyAdqhL9hY"
      },
      "source": [
        "To use Numpy, we first need to import the `numpy` package:"
      ]
    },
    {
      "cell_type": "code",
      "metadata": {
        "id": "58QdX8BLL9hZ"
      },
      "source": [
        "import numpy as np"
      ],
      "execution_count": 1,
      "outputs": []
    },
    {
      "cell_type": "markdown",
      "metadata": {
        "id": "DDx6v1EdL9hb"
      },
      "source": [
        "###Arrays"
      ]
    },
    {
      "cell_type": "markdown",
      "metadata": {
        "id": "f-Zv3f7LL9hc"
      },
      "source": [
        "A numpy array is a grid of values, all of the same type, and is indexed by a tuple of nonnegative integers. The number of dimensions is the rank of the array; the shape of an array is a tuple of integers giving the size of the array along each dimension."
      ]
    },
    {
      "cell_type": "markdown",
      "metadata": {
        "id": "_eMTRnZRL9hc"
      },
      "source": [
        "We can initialize numpy arrays from nested Python lists, and access elements using square brackets:"
      ]
    },
    {
      "cell_type": "code",
      "metadata": {
        "id": "-l3JrGxCL9hc",
        "colab": {
          "base_uri": "https://localhost:8080/"
        },
        "outputId": "90a9121f-325f-4355-ac71-8659911b2648"
      },
      "source": [
        "a = np.array([1, 2, 3])\n",
        "print(type(a), a.shape, a[0], a[1], a[2])\n",
        "a[0] = 5\n",
        "print(a)"
      ],
      "execution_count": 2,
      "outputs": [
        {
          "output_type": "stream",
          "name": "stdout",
          "text": [
            "<class 'numpy.ndarray'> (3,) 1 2 3\n",
            "[5 2 3]\n"
          ]
        }
      ]
    },
    {
      "cell_type": "code",
      "source": [
        "d=np.array([1,3,6])\n",
        "print(type(d),d.shape,d[2])\n",
        "d[2]=10\n",
        "print(d)"
      ],
      "metadata": {
        "colab": {
          "base_uri": "https://localhost:8080/"
        },
        "id": "82SsKuCL-B6O",
        "outputId": "f897b75f-5fa0-47a5-b6b6-dfcbc427ef38"
      },
      "execution_count": 3,
      "outputs": [
        {
          "output_type": "stream",
          "name": "stdout",
          "text": [
            "<class 'numpy.ndarray'> (3,) 6\n",
            "[ 1  3 10]\n"
          ]
        }
      ]
    },
    {
      "cell_type": "code",
      "metadata": {
        "id": "ma6mk-kdL9hh",
        "colab": {
          "base_uri": "https://localhost:8080/"
        },
        "outputId": "c9b9cf09-7c38-425a-c2e2-1f97038dd08e"
      },
      "source": [
        "b = np.array([[1,2,3],[4,5,6]])\n",
        "print(b)"
      ],
      "execution_count": 4,
      "outputs": [
        {
          "output_type": "stream",
          "name": "stdout",
          "text": [
            "[[1 2 3]\n",
            " [4 5 6]]\n"
          ]
        }
      ]
    },
    {
      "cell_type": "code",
      "metadata": {
        "id": "_UKragjg2vDU",
        "colab": {
          "base_uri": "https://localhost:8080/"
        },
        "outputId": "4c03d42c-8b75-499c-de46-2d27172c2cdb"
      },
      "source": [
        "b[0]"
      ],
      "execution_count": 5,
      "outputs": [
        {
          "output_type": "execute_result",
          "data": {
            "text/plain": [
              "array([1, 2, 3])"
            ]
          },
          "metadata": {},
          "execution_count": 5
        }
      ]
    },
    {
      "cell_type": "code",
      "metadata": {
        "id": "ymfSHAwtL9hj",
        "colab": {
          "base_uri": "https://localhost:8080/"
        },
        "outputId": "77bb468a-7442-4e00-a46a-da776ed14a56"
      },
      "source": [
        "print(b.shape)\n",
        "print(b[0, 0], b[0, 1], b[1, 0])"
      ],
      "execution_count": 6,
      "outputs": [
        {
          "output_type": "stream",
          "name": "stdout",
          "text": [
            "(2, 3)\n",
            "1 2 4\n"
          ]
        }
      ]
    },
    {
      "cell_type": "markdown",
      "metadata": {
        "id": "F2qwdyvuL9hn"
      },
      "source": [
        "Numpy also provides many functions to create arrays:"
      ]
    },
    {
      "cell_type": "code",
      "metadata": {
        "id": "mVTN_EBqL9hn",
        "colab": {
          "base_uri": "https://localhost:8080/"
        },
        "outputId": "12e55720-ca78-415c-8993-8608820d0f4d"
      },
      "source": [
        "a = np.zeros((2,6))\n",
        "print(a)"
      ],
      "execution_count": 7,
      "outputs": [
        {
          "output_type": "stream",
          "name": "stdout",
          "text": [
            "[[0. 0. 0. 0. 0. 0.]\n",
            " [0. 0. 0. 0. 0. 0.]]\n"
          ]
        }
      ]
    },
    {
      "cell_type": "code",
      "metadata": {
        "id": "skiKlNmlL9h5",
        "colab": {
          "base_uri": "https://localhost:8080/"
        },
        "outputId": "4e1d12fb-54eb-44b4-cd09-3d6d015aba67"
      },
      "source": [
        "b = np.ones((3,9))\n",
        "print(b)"
      ],
      "execution_count": 8,
      "outputs": [
        {
          "output_type": "stream",
          "name": "stdout",
          "text": [
            "[[1. 1. 1. 1. 1. 1. 1. 1. 1.]\n",
            " [1. 1. 1. 1. 1. 1. 1. 1. 1.]\n",
            " [1. 1. 1. 1. 1. 1. 1. 1. 1.]]\n"
          ]
        }
      ]
    },
    {
      "cell_type": "code",
      "metadata": {
        "id": "HtFsr03bL9h7",
        "colab": {
          "base_uri": "https://localhost:8080/"
        },
        "outputId": "4b3ca2fe-1557-42b4-9f18-80d597c718a8"
      },
      "source": [
        "c = np.full((2,5), 4)\n",
        "print(c)"
      ],
      "execution_count": 9,
      "outputs": [
        {
          "output_type": "stream",
          "name": "stdout",
          "text": [
            "[[4 4 4 4 4]\n",
            " [4 4 4 4 4]]\n"
          ]
        }
      ]
    },
    {
      "cell_type": "code",
      "metadata": {
        "id": "-QcALHvkL9h9",
        "colab": {
          "base_uri": "https://localhost:8080/"
        },
        "outputId": "a83b3b8e-86f7-4ffa-b820-5f402bf72e20"
      },
      "source": [
        "d = np.eye(5)\n",
        "print(d)"
      ],
      "execution_count": 10,
      "outputs": [
        {
          "output_type": "stream",
          "name": "stdout",
          "text": [
            "[[1. 0. 0. 0. 0.]\n",
            " [0. 1. 0. 0. 0.]\n",
            " [0. 0. 1. 0. 0.]\n",
            " [0. 0. 0. 1. 0.]\n",
            " [0. 0. 0. 0. 1.]]\n"
          ]
        }
      ]
    },
    {
      "cell_type": "code",
      "metadata": {
        "id": "RCpaYg9qL9iA",
        "colab": {
          "base_uri": "https://localhost:8080/"
        },
        "outputId": "f347d203-fb14-4ca0-e3fb-a92dc1e83200"
      },
      "source": [
        "e = np.random.random((23,2))\n",
        "print(e)"
      ],
      "execution_count": 11,
      "outputs": [
        {
          "output_type": "stream",
          "name": "stdout",
          "text": [
            "[[0.77020971 0.46179814]\n",
            " [0.15751399 0.43313497]\n",
            " [0.26508312 0.66726166]\n",
            " [0.55378675 0.21041345]\n",
            " [0.88400949 0.40121431]\n",
            " [0.31063329 0.93695746]\n",
            " [0.24488145 0.46662546]\n",
            " [0.52707369 0.1853667 ]\n",
            " [0.29112353 0.79922325]\n",
            " [0.02071571 0.72007035]\n",
            " [0.42606786 0.46589609]\n",
            " [0.92566968 0.64049378]\n",
            " [0.21886568 0.16189116]\n",
            " [0.99332435 0.57851444]\n",
            " [0.95042441 0.8260231 ]\n",
            " [0.60067961 0.33638842]\n",
            " [0.49467186 0.47515247]\n",
            " [0.69686188 0.54489718]\n",
            " [0.32398848 0.96815622]\n",
            " [0.11552864 0.46898104]\n",
            " [0.1087329  0.37730188]\n",
            " [0.98521503 0.77126349]\n",
            " [0.06347459 0.99811618]]\n"
          ]
        }
      ]
    },
    {
      "cell_type": "markdown",
      "metadata": {
        "id": "jI5qcSDfL9iC"
      },
      "source": [
        "###Array indexing"
      ]
    },
    {
      "cell_type": "markdown",
      "metadata": {
        "id": "M-E4MUeVL9iC"
      },
      "source": [
        "Numpy offers several ways to index into arrays."
      ]
    },
    {
      "cell_type": "markdown",
      "metadata": {
        "id": "QYv4JyIEL9iD"
      },
      "source": [
        "Slicing: Similar to Python lists, numpy arrays can be sliced. Since arrays may be multidimensional, you must specify a slice for each dimension of the array:"
      ]
    },
    {
      "cell_type": "code",
      "metadata": {
        "id": "wLWA0udwL9iD",
        "colab": {
          "base_uri": "https://localhost:8080/"
        },
        "outputId": "67ecc1a4-979c-4fc8-c3c6-2578212ce9c6"
      },
      "source": [
        "import numpy as np\n",
        "\n",
        "a = np.array([[1,2,3,4], [5,6,7,8], [9,10,11,12]])\n",
        "b = a[:2, 1:3]\n",
        "print(b)"
      ],
      "execution_count": 12,
      "outputs": [
        {
          "output_type": "stream",
          "name": "stdout",
          "text": [
            "[[2 3]\n",
            " [6 7]]\n"
          ]
        }
      ]
    },
    {
      "cell_type": "markdown",
      "metadata": {
        "id": "KahhtZKYL9iF"
      },
      "source": [
        "A slice of an array is a view into the same data, so modifying it will modify the original array."
      ]
    },
    {
      "cell_type": "code",
      "metadata": {
        "id": "1kmtaFHuL9iG",
        "colab": {
          "base_uri": "https://localhost:8080/"
        },
        "outputId": "018811ee-fa9a-40b1-fab7-503c8eaaf644"
      },
      "source": [
        "print(a[0, 1])\n",
        "b[0, 0] = 77\n",
        "print(a[0, 1])"
      ],
      "execution_count": 13,
      "outputs": [
        {
          "output_type": "stream",
          "name": "stdout",
          "text": [
            "2\n",
            "77\n"
          ]
        }
      ]
    },
    {
      "cell_type": "code",
      "metadata": {
        "id": "DfyqSm3y3_Eg",
        "colab": {
          "base_uri": "https://localhost:8080/"
        },
        "outputId": "df815cf5-f2b7-4a56-d164-b03923cfd6f6"
      },
      "source": [
        "print(a)\n",
        "print(b)"
      ],
      "execution_count": 14,
      "outputs": [
        {
          "output_type": "stream",
          "name": "stdout",
          "text": [
            "[[ 1 77  3  4]\n",
            " [ 5  6  7  8]\n",
            " [ 9 10 11 12]]\n",
            "[[77  3]\n",
            " [ 6  7]]\n"
          ]
        }
      ]
    },
    {
      "cell_type": "markdown",
      "metadata": {
        "id": "_Zcf3zi-L9iI"
      },
      "source": [
        "You can also mix integer indexing with slice indexing. However, doing so will yield an array of lower rank than the original array."
      ]
    },
    {
      "cell_type": "code",
      "metadata": {
        "id": "G6lfbPuxL9iJ",
        "colab": {
          "base_uri": "https://localhost:8080/"
        },
        "outputId": "3aaa69fb-0cf1-4a53-c45d-3b72be878b5e"
      },
      "source": [
        "\n",
        "a = np.array([[1,2,3,4], [5,6,7,8], [9,10,11,12]])\n",
        "print(a)"
      ],
      "execution_count": 15,
      "outputs": [
        {
          "output_type": "stream",
          "name": "stdout",
          "text": [
            "[[ 1  2  3  4]\n",
            " [ 5  6  7  8]\n",
            " [ 9 10 11 12]]\n"
          ]
        }
      ]
    },
    {
      "cell_type": "markdown",
      "metadata": {
        "id": "NCye3NXhL9iL"
      },
      "source": [
        "Two ways of accessing the data in the middle row of the array.\n",
        "Mixing integer indexing with slices yields an array of lower rank,\n",
        "while using only slices yields an array of the same rank as the\n",
        "original array:"
      ]
    },
    {
      "cell_type": "code",
      "metadata": {
        "id": "EOiEMsmNL9iL",
        "colab": {
          "base_uri": "https://localhost:8080/"
        },
        "outputId": "63bf946f-52ba-4278-c5ee-145215eead84"
      },
      "source": [
        "row_r1 = a[1, :]\n",
        "row_r2 = a[1:2, :]\n",
        "row_r3 = a[[1], :]\n",
        "print(row_r1, row_r1.shape)\n",
        "print(row_r2, row_r2.shape)\n",
        "print(row_r3, row_r3.shape)"
      ],
      "execution_count": 16,
      "outputs": [
        {
          "output_type": "stream",
          "name": "stdout",
          "text": [
            "[5 6 7 8] (4,)\n",
            "[[5 6 7 8]] (1, 4)\n",
            "[[5 6 7 8]] (1, 4)\n"
          ]
        }
      ]
    },
    {
      "cell_type": "code",
      "metadata": {
        "id": "JXu73pfDL9iN",
        "colab": {
          "base_uri": "https://localhost:8080/"
        },
        "outputId": "cd386ab2-99b9-47a7-90b8-2ae58f6d7a46"
      },
      "source": [
        "\n",
        "col_r1 = a[:, 1]\n",
        "col_r2 = a[:, 1:2]\n",
        "print(col_r1, col_r1.shape)\n",
        "print()\n",
        "print(col_r2, col_r2.shape)"
      ],
      "execution_count": 17,
      "outputs": [
        {
          "output_type": "stream",
          "name": "stdout",
          "text": [
            "[ 2  6 10] (3,)\n",
            "\n",
            "[[ 2]\n",
            " [ 6]\n",
            " [10]] (3, 1)\n"
          ]
        }
      ]
    },
    {
      "cell_type": "markdown",
      "metadata": {
        "id": "VP3916bOL9iP"
      },
      "source": [
        "Integer array indexing: When you index into numpy arrays using slicing, the resulting array view will always be a subarray of the original array. In contrast, integer array indexing allows you to construct arbitrary arrays using the data from another array. Here is an example:"
      ]
    },
    {
      "cell_type": "code",
      "metadata": {
        "id": "TBnWonIDL9iP",
        "colab": {
          "base_uri": "https://localhost:8080/"
        },
        "outputId": "800858f4-94c0-4ed1-f2de-33cbedca1759"
      },
      "source": [
        "a = np.array([[1,2], [3, 4], [5, 6]])\n",
        "print(a.shape)\n",
        "\n",
        "\n",
        "print(a[[0, 1, 2], [0, 1, 0]])\n",
        "\n",
        "print(np.array([a[0, 0], a[1, 1], a[2, 0]]))"
      ],
      "execution_count": 18,
      "outputs": [
        {
          "output_type": "stream",
          "name": "stdout",
          "text": [
            "(3, 2)\n",
            "[1 4 5]\n",
            "[1 4 5]\n"
          ]
        }
      ]
    },
    {
      "cell_type": "code",
      "metadata": {
        "id": "n7vuati-L9iR",
        "colab": {
          "base_uri": "https://localhost:8080/"
        },
        "outputId": "045cfbb5-aeb1-4393-bb0e-041cbd2a8750"
      },
      "source": [
        "\n",
        "print(a[[0, 0], [1, 1]])\n",
        "\n",
        "print(np.array([a[0, 1], a[0, 1]]))"
      ],
      "execution_count": 19,
      "outputs": [
        {
          "output_type": "stream",
          "name": "stdout",
          "text": [
            "[2 2]\n",
            "[2 2]\n"
          ]
        }
      ]
    },
    {
      "cell_type": "markdown",
      "metadata": {
        "id": "kaipSLafL9iU"
      },
      "source": [
        "One useful trick with integer array indexing is selecting or mutating one element from each row of a matrix:"
      ]
    },
    {
      "cell_type": "code",
      "metadata": {
        "id": "ehqsV7TXL9iU",
        "colab": {
          "base_uri": "https://localhost:8080/"
        },
        "outputId": "8fecc85a-38d4-44db-89cc-c35b595d7de9"
      },
      "source": [
        "\n",
        "a = np.array([[1,2,3], [4,5,6], [7,8,9], [10, 11, 12]])\n",
        "print(a)"
      ],
      "execution_count": 20,
      "outputs": [
        {
          "output_type": "stream",
          "name": "stdout",
          "text": [
            "[[ 1  2  3]\n",
            " [ 4  5  6]\n",
            " [ 7  8  9]\n",
            " [10 11 12]]\n"
          ]
        }
      ]
    },
    {
      "cell_type": "code",
      "metadata": {
        "id": "pAPOoqy5L9iV",
        "colab": {
          "base_uri": "https://localhost:8080/"
        },
        "outputId": "9c434146-7b25-49c9-8290-602a5f9b35c6"
      },
      "source": [
        "\n",
        "b = np.array([0, 2, 0, 1])\n",
        "print(b)\n",
        "\n",
        "\n",
        "print(a[:, b])"
      ],
      "execution_count": 21,
      "outputs": [
        {
          "output_type": "stream",
          "name": "stdout",
          "text": [
            "[0 2 0 1]\n",
            "[[ 1  3  1  2]\n",
            " [ 4  6  4  5]\n",
            " [ 7  9  7  8]\n",
            " [10 12 10 11]]\n"
          ]
        }
      ]
    },
    {
      "cell_type": "code",
      "metadata": {
        "id": "6v1PdI1DL9ib",
        "colab": {
          "base_uri": "https://localhost:8080/"
        },
        "outputId": "be2e31b8-76df-4574-9386-b19b961ba667"
      },
      "source": [
        "a[np.arange(4), b] += 10\n",
        "print(a)"
      ],
      "execution_count": 22,
      "outputs": [
        {
          "output_type": "stream",
          "name": "stdout",
          "text": [
            "[[11  2  3]\n",
            " [ 4  5 16]\n",
            " [17  8  9]\n",
            " [10 21 12]]\n"
          ]
        }
      ]
    },
    {
      "cell_type": "markdown",
      "metadata": {
        "id": "kaE8dBGgL9id"
      },
      "source": [
        "Boolean array indexing: Boolean array indexing lets you pick out arbitrary elements of an array. Frequently this type of indexing is used to select the elements of an array that satisfy some condition. Here is an example:"
      ]
    },
    {
      "cell_type": "code",
      "metadata": {
        "id": "32PusjtKL9id",
        "colab": {
          "base_uri": "https://localhost:8080/"
        },
        "outputId": "d3968920-01e8-43b9-a508-895d68c25d49"
      },
      "source": [
        "import numpy as np\n",
        "\n",
        "a = np.array([[1,2], [3, 4], [5, 6]])\n",
        "print(a)\n",
        "\n",
        "bool_idx = (a > 2)\n",
        "\n",
        "print(bool_idx)"
      ],
      "execution_count": 23,
      "outputs": [
        {
          "output_type": "stream",
          "name": "stdout",
          "text": [
            "[[1 2]\n",
            " [3 4]\n",
            " [5 6]]\n",
            "[[False False]\n",
            " [ True  True]\n",
            " [ True  True]]\n"
          ]
        }
      ]
    },
    {
      "cell_type": "code",
      "metadata": {
        "id": "cb2IRMXaL9if",
        "colab": {
          "base_uri": "https://localhost:8080/"
        },
        "outputId": "0fbea975-08b5-4db8-be17-6a3a4d6dd1d6"
      },
      "source": [
        "\n",
        "print(a[bool_idx])\n",
        "\n",
        "\n",
        "print(a[a > 2])"
      ],
      "execution_count": 24,
      "outputs": [
        {
          "output_type": "stream",
          "name": "stdout",
          "text": [
            "[3 4 5 6]\n",
            "[3 4 5 6]\n"
          ]
        }
      ]
    },
    {
      "cell_type": "markdown",
      "metadata": {
        "id": "jTctwqdQL9ih"
      },
      "source": [
        "###Datatypes"
      ]
    },
    {
      "cell_type": "markdown",
      "metadata": {
        "id": "kSZQ1WkIL9ih"
      },
      "source": [
        "Every numpy array is a grid of elements of the same type. Numpy provides a large set of numeric datatypes that you can use to construct arrays. Numpy tries to guess a datatype when you create an array, but functions that construct arrays usually also include an optional argument to explicitly specify the datatype. Here is an example:"
      ]
    },
    {
      "cell_type": "code",
      "metadata": {
        "id": "4za4O0m5L9ih",
        "colab": {
          "base_uri": "https://localhost:8080/"
        },
        "outputId": "a49e5611-4aa9-41df-eeb3-8d56ba3959b1"
      },
      "source": [
        "x = np.array([1, 2])\n",
        "y = np.array([1.0, 2.0])\n",
        "z = np.array([1, 2], dtype=np.int64)\n",
        "\n",
        "print(x.dtype, y.dtype, z.dtype)"
      ],
      "execution_count": 25,
      "outputs": [
        {
          "output_type": "stream",
          "name": "stdout",
          "text": [
            "int64 float64 int64\n"
          ]
        }
      ]
    },
    {
      "cell_type": "markdown",
      "metadata": {
        "id": "RLVIsZQpL9ik"
      },
      "source": []
    },
    {
      "cell_type": "markdown",
      "metadata": {
        "id": "TuB-fdhIL9ik"
      },
      "source": [
        "###Array math"
      ]
    },
    {
      "cell_type": "markdown",
      "metadata": {
        "id": "18e8V8elL9ik"
      },
      "source": [
        "Basic mathematical functions operate elementwise on arrays, and are available both as operator overloads and as functions in the numpy module:"
      ]
    },
    {
      "cell_type": "code",
      "metadata": {
        "id": "gHKvBrSKL9il",
        "colab": {
          "base_uri": "https://localhost:8080/"
        },
        "outputId": "88383064-e183-4632-de95-a6ea293866fc"
      },
      "source": [
        "x = np.array([[1,2],[3,4]], dtype=np.float64)\n",
        "y = np.array([[5,6],[7,8]], dtype=np.float64)\n",
        "\n",
        "print(x + y)\n",
        "print(np.add(x, y))"
      ],
      "execution_count": 26,
      "outputs": [
        {
          "output_type": "stream",
          "name": "stdout",
          "text": [
            "[[ 6.  8.]\n",
            " [10. 12.]]\n",
            "[[ 6.  8.]\n",
            " [10. 12.]]\n"
          ]
        }
      ]
    },
    {
      "cell_type": "code",
      "metadata": {
        "id": "1fZtIAMxL9in",
        "colab": {
          "base_uri": "https://localhost:8080/"
        },
        "outputId": "6d5363ba-9907-47fb-dffe-331077c5df7c"
      },
      "source": [
        "\n",
        "print(x - y)\n",
        "print(np.subtract(x, y))"
      ],
      "execution_count": 27,
      "outputs": [
        {
          "output_type": "stream",
          "name": "stdout",
          "text": [
            "[[-4. -4.]\n",
            " [-4. -4.]]\n",
            "[[-4. -4.]\n",
            " [-4. -4.]]\n"
          ]
        }
      ]
    },
    {
      "cell_type": "code",
      "metadata": {
        "id": "nil4AScML9io",
        "colab": {
          "base_uri": "https://localhost:8080/"
        },
        "outputId": "dc8ad21f-19b3-4772-c6af-2c92db2e383e"
      },
      "source": [
        "\n",
        "print(x * y)\n",
        "print(np.multiply(x, y))"
      ],
      "execution_count": 28,
      "outputs": [
        {
          "output_type": "stream",
          "name": "stdout",
          "text": [
            "[[ 5. 12.]\n",
            " [21. 32.]]\n",
            "[[ 5. 12.]\n",
            " [21. 32.]]\n"
          ]
        }
      ]
    },
    {
      "cell_type": "code",
      "metadata": {
        "id": "0JoA4lH6L9ip",
        "colab": {
          "base_uri": "https://localhost:8080/"
        },
        "outputId": "95b41e01-1035-4fca-907c-19ae226040f4"
      },
      "source": [
        "\n",
        "print(x / y)\n",
        "print(np.divide(x, y))"
      ],
      "execution_count": 29,
      "outputs": [
        {
          "output_type": "stream",
          "name": "stdout",
          "text": [
            "[[0.2        0.33333333]\n",
            " [0.42857143 0.5       ]]\n",
            "[[0.2        0.33333333]\n",
            " [0.42857143 0.5       ]]\n"
          ]
        }
      ]
    },
    {
      "cell_type": "code",
      "metadata": {
        "id": "g0iZuA6bL9ir",
        "colab": {
          "base_uri": "https://localhost:8080/"
        },
        "outputId": "02453e7b-0d36-4f0d-d635-221e2f6f52de"
      },
      "source": [
        "\n",
        "print(np.sqrt(x))"
      ],
      "execution_count": 30,
      "outputs": [
        {
          "output_type": "stream",
          "name": "stdout",
          "text": [
            "[[1.         1.41421356]\n",
            " [1.73205081 2.        ]]\n"
          ]
        }
      ]
    },
    {
      "cell_type": "markdown",
      "metadata": {
        "id": "a5d_uujuL9it"
      },
      "source": [
        "We use the dot function to compute inner products of vectors, to multiply a vector by a matrix, and to multiply matrices. dot is available both as a function in the numpy module and as an instance method of array objects:"
      ]
    },
    {
      "cell_type": "code",
      "metadata": {
        "id": "I3FnmoSeL9iu",
        "colab": {
          "base_uri": "https://localhost:8080/"
        },
        "outputId": "341e7459-d3f7-4de6-ed20-f31f76ba04bf"
      },
      "source": [
        "x = np.array([[1,2],[3,4]])\n",
        "y = np.array([[5,6],[7,8]])\n",
        "\n",
        "v = np.array([9,10])\n",
        "w = np.array([11, 12])\n",
        "print(v.shape, w.shape)\n",
        "print(v.dot(w))\n",
        "print(np.dot(v, w))\n",
        "\n",
        "print(x.dot(y))\n"
      ],
      "execution_count": 31,
      "outputs": [
        {
          "output_type": "stream",
          "name": "stdout",
          "text": [
            "(2,) (2,)\n",
            "219\n",
            "219\n",
            "[[19 22]\n",
            " [43 50]]\n"
          ]
        }
      ]
    },
    {
      "cell_type": "code",
      "metadata": {
        "id": "1Eo4KJFg9EFc",
        "colab": {
          "base_uri": "https://localhost:8080/"
        },
        "outputId": "1db4a1c8-a12e-4a2b-edd2-f6f4dd3aafd8"
      },
      "source": [
        "z = np.eye(2)\n",
        "print(x.dot(z))"
      ],
      "execution_count": 32,
      "outputs": [
        {
          "output_type": "stream",
          "name": "stdout",
          "text": [
            "[[1. 2.]\n",
            " [3. 4.]]\n"
          ]
        }
      ]
    },
    {
      "cell_type": "markdown",
      "metadata": {
        "id": "vmxPbrHASVeA"
      },
      "source": [
        "You can also use the `@` operator which is equivalent to numpy's `dot` operator."
      ]
    },
    {
      "cell_type": "code",
      "metadata": {
        "id": "vyrWA-mXSdtt",
        "colab": {
          "base_uri": "https://localhost:8080/"
        },
        "outputId": "09858eb2-3afc-439f-d1a5-cf9cb7159c6c"
      },
      "source": [
        "print(v @ w)"
      ],
      "execution_count": 33,
      "outputs": [
        {
          "output_type": "stream",
          "name": "stdout",
          "text": [
            "219\n"
          ]
        }
      ]
    },
    {
      "cell_type": "code",
      "metadata": {
        "id": "zvUODeTxL9iw",
        "colab": {
          "base_uri": "https://localhost:8080/"
        },
        "outputId": "677a9d7f-6854-4239-8b73-fa8d11cebc31"
      },
      "source": [
        "print(x.dot(v))\n",
        "print(np.dot(x, v))\n",
        "print(x @ v)"
      ],
      "execution_count": 34,
      "outputs": [
        {
          "output_type": "stream",
          "name": "stdout",
          "text": [
            "[29 67]\n",
            "[29 67]\n",
            "[29 67]\n"
          ]
        }
      ]
    },
    {
      "cell_type": "code",
      "metadata": {
        "id": "3V_3NzNEL9iy",
        "colab": {
          "base_uri": "https://localhost:8080/"
        },
        "outputId": "640a3c28-71e2-462c-a3b5-e234a519e530"
      },
      "source": [
        "\n",
        "print(x.dot(y))\n",
        "print(np.dot(x, y))\n",
        "print(x @ y)"
      ],
      "execution_count": 35,
      "outputs": [
        {
          "output_type": "stream",
          "name": "stdout",
          "text": [
            "[[19 22]\n",
            " [43 50]]\n",
            "[[19 22]\n",
            " [43 50]]\n",
            "[[19 22]\n",
            " [43 50]]\n"
          ]
        }
      ]
    },
    {
      "cell_type": "markdown",
      "metadata": {
        "id": "FbE-1If_L9i0"
      },
      "source": [
        "Numpy provides many useful functions for performing computations on arrays; one of the most useful is `sum`:"
      ]
    },
    {
      "cell_type": "code",
      "metadata": {
        "id": "DZUdZvPrL9i0",
        "colab": {
          "base_uri": "https://localhost:8080/"
        },
        "outputId": "67d7e2f5-1df5-4b43-edaa-1ff6bbfbb054"
      },
      "source": [
        "x = np.array([[1,2],[3,4]])\n",
        "\n",
        "print(np.sum(x))\n"
      ],
      "execution_count": 36,
      "outputs": [
        {
          "output_type": "stream",
          "name": "stdout",
          "text": [
            "10\n"
          ]
        }
      ]
    },
    {
      "cell_type": "code",
      "metadata": {
        "id": "IeRF2L2E9e-U",
        "colab": {
          "base_uri": "https://localhost:8080/"
        },
        "outputId": "9eb53f0f-03c6-41af-ce5a-5c591ee59bd7"
      },
      "source": [
        "print(x)\n",
        "print(np.sum(x, axis=0))\n",
        "print(np.sum(x, axis=1))"
      ],
      "execution_count": 37,
      "outputs": [
        {
          "output_type": "stream",
          "name": "stdout",
          "text": [
            "[[1 2]\n",
            " [3 4]]\n",
            "[4 6]\n",
            "[3 7]\n"
          ]
        }
      ]
    },
    {
      "cell_type": "markdown",
      "metadata": {
        "id": "ahdVW4iUL9i3"
      },
      "source": [
        "You can find the full list of mathematical functions provided by numpy in the [documentation](http://docs.scipy.org/doc/numpy/reference/routines.math.html).\n",
        "\n",
        "Apart from computing mathematical functions using arrays, we frequently need to reshape or otherwise manipulate data in arrays. The simplest example of this type of operation is transposing a matrix; to transpose a matrix, simply use the T attribute of an array object:"
      ]
    },
    {
      "cell_type": "code",
      "metadata": {
        "id": "63Yl1f3oL9i3",
        "colab": {
          "base_uri": "https://localhost:8080/"
        },
        "outputId": "6593f3ba-1a5c-4a0a-b0a7-02e00fafb4aa"
      },
      "source": [
        "print(x)\n",
        "print(\"transpose\\n\", x.T)"
      ],
      "execution_count": 38,
      "outputs": [
        {
          "output_type": "stream",
          "name": "stdout",
          "text": [
            "[[1 2]\n",
            " [3 4]]\n",
            "transpose\n",
            " [[1 3]\n",
            " [2 4]]\n"
          ]
        }
      ]
    },
    {
      "cell_type": "code",
      "metadata": {
        "id": "mkk03eNIL9i4",
        "colab": {
          "base_uri": "https://localhost:8080/"
        },
        "outputId": "4ad49d71-0ac8-493f-d144-0abd44f7721a"
      },
      "source": [
        "v = np.array([[1,2,3]])\n",
        "print(v.shape)\n",
        "print(v )\n",
        "print(\"transpose\\n\", v.T)"
      ],
      "execution_count": 39,
      "outputs": [
        {
          "output_type": "stream",
          "name": "stdout",
          "text": [
            "(1, 3)\n",
            "[[1 2 3]]\n",
            "transpose\n",
            " [[1]\n",
            " [2]\n",
            " [3]]\n"
          ]
        }
      ]
    },
    {
      "cell_type": "markdown",
      "metadata": {
        "id": "REfLrUTcL9i7"
      },
      "source": [
        "###Broadcasting"
      ]
    },
    {
      "cell_type": "markdown",
      "metadata": {
        "id": "EygGAMWqL9i7"
      },
      "source": [
        "Broadcasting is a powerful mechanism that allows numpy to work with arrays of different shapes when performing arithmetic operations. Frequently we have a smaller array and a larger array, and we want to use the smaller array multiple times to perform some operation on the larger array.\n",
        "\n",
        "For example, suppose that we want to add a constant vector to each row of a matrix. We could do it like this:"
      ]
    },
    {
      "cell_type": "code",
      "metadata": {
        "id": "WEEvkV1ZL9i7",
        "colab": {
          "base_uri": "https://localhost:8080/"
        },
        "outputId": "8e714cf5-d0ca-4cc1-e0d0-75a5817e47f1"
      },
      "source": [
        "\n",
        "x = np.array([[1,2,3], [4,5,6], [7,8,9], [10, 11, 12]])\n",
        "v = np.array([1, 0, 1])\n",
        "y = np.empty_like(x)\n",
        "\n",
        "for i in range(4):\n",
        "    y[i, :] = x[i, :] + v\n",
        "\n",
        "print(y)"
      ],
      "execution_count": 40,
      "outputs": [
        {
          "output_type": "stream",
          "name": "stdout",
          "text": [
            "[[ 2  2  4]\n",
            " [ 5  5  7]\n",
            " [ 8  8 10]\n",
            " [11 11 13]]\n"
          ]
        }
      ]
    },
    {
      "cell_type": "markdown",
      "metadata": {
        "id": "2OlXXupEL9i-"
      },
      "source": [
        "This works; however when the matrix `x` is very large, computing an explicit loop in Python could be slow. Note that adding the vector v to each row of the matrix `x` is equivalent to forming a matrix `vv` by stacking multiple copies of `v` vertically, then performing elementwise summation of `x` and `vv`. We could implement this approach like this:"
      ]
    },
    {
      "cell_type": "code",
      "metadata": {
        "id": "vS7UwAQQL9i-",
        "colab": {
          "base_uri": "https://localhost:8080/"
        },
        "outputId": "4b5a870e-3eee-4177-9ed7-fde993ddbefb"
      },
      "source": [
        "vv = np.tile(v, (4, 1))  #op of each other\n",
        "print(vv)"
      ],
      "execution_count": 41,
      "outputs": [
        {
          "output_type": "stream",
          "name": "stdout",
          "text": [
            "[[1 0 1]\n",
            " [1 0 1]\n",
            " [1 0 1]\n",
            " [1 0 1]]\n"
          ]
        }
      ]
    },
    {
      "cell_type": "code",
      "metadata": {
        "id": "N0hJphSIL9jA",
        "colab": {
          "base_uri": "https://localhost:8080/"
        },
        "outputId": "d443741b-4073-4f54-f19a-48371e19fcde"
      },
      "source": [
        "y = x + vv\n",
        "print(y)"
      ],
      "execution_count": 42,
      "outputs": [
        {
          "output_type": "stream",
          "name": "stdout",
          "text": [
            "[[ 2  2  4]\n",
            " [ 5  5  7]\n",
            " [ 8  8 10]\n",
            " [11 11 13]]\n"
          ]
        }
      ]
    },
    {
      "cell_type": "markdown",
      "metadata": {
        "id": "zHos6RJnL9jB"
      },
      "source": [
        "Numpy broadcasting allows us to perform this computation without actually creating multiple copies of v. Consider this version, using broadcasting:"
      ]
    },
    {
      "cell_type": "code",
      "metadata": {
        "id": "vnYFb-gYL9jC",
        "colab": {
          "base_uri": "https://localhost:8080/"
        },
        "outputId": "a54fbfad-3fa9-4dac-f395-c7a375cba9af"
      },
      "source": [
        "import numpy as np\n",
        "x = np.array([[1,2,3], [4,5,6], [7,8,9], [10, 11, 12]])\n",
        "v = np.array([1, 0, 1])\n",
        "y = x + v\n",
        "print(y)"
      ],
      "execution_count": 43,
      "outputs": [
        {
          "output_type": "stream",
          "name": "stdout",
          "text": [
            "[[ 2  2  4]\n",
            " [ 5  5  7]\n",
            " [ 8  8 10]\n",
            " [11 11 13]]\n"
          ]
        }
      ]
    },
    {
      "cell_type": "markdown",
      "metadata": {
        "id": "08YyIURKL9jH"
      },
      "source": [
        "The line `y = x + v` works even though `x` has shape `(4, 3)` and `v` has shape `(3,)` due to broadcasting; this line works as if v actually had shape `(4, 3)`, where each row was a copy of `v`, and the sum was performed elementwise.\n",
        "\n",
        "Broadcasting two arrays together follows these rules:\n",
        "\n",
        "\n",
        "Here are some applications of broadcasting:"
      ]
    },
    {
      "cell_type": "code",
      "metadata": {
        "id": "EmQnwoM9L9jH",
        "colab": {
          "base_uri": "https://localhost:8080/"
        },
        "outputId": "a75acf9c-381e-4241-93b4-c42a0b3f8b95"
      },
      "source": [
        "v = np.array([1,2,3])\n",
        "w = np.array([4,5])\n",
        "print(np.reshape(v, (3, 1)) * w)"
      ],
      "execution_count": 44,
      "outputs": [
        {
          "output_type": "stream",
          "name": "stdout",
          "text": [
            "[[ 4  5]\n",
            " [ 8 10]\n",
            " [12 15]]\n"
          ]
        }
      ]
    },
    {
      "cell_type": "code",
      "metadata": {
        "id": "PgotmpcnL9jK",
        "colab": {
          "base_uri": "https://localhost:8080/"
        },
        "outputId": "b76d3f61-b1a5-47e9-eae8-66c95fe447d1"
      },
      "source": [
        "x = np.array([[1,2,3], [4,5,6]])\n",
        "print(x + v)"
      ],
      "execution_count": 45,
      "outputs": [
        {
          "output_type": "stream",
          "name": "stdout",
          "text": [
            "[[2 4 6]\n",
            " [5 7 9]]\n"
          ]
        }
      ]
    },
    {
      "cell_type": "code",
      "metadata": {
        "id": "T5hKS1QaL9jK",
        "colab": {
          "base_uri": "https://localhost:8080/"
        },
        "outputId": "e3f0d96c-25f2-4aed-a2b8-92f3d5dee6a4"
      },
      "source": [
        "print((x.T + w).T)"
      ],
      "execution_count": 46,
      "outputs": [
        {
          "output_type": "stream",
          "name": "stdout",
          "text": [
            "[[ 5  6  7]\n",
            " [ 9 10 11]]\n"
          ]
        }
      ]
    },
    {
      "cell_type": "code",
      "metadata": {
        "id": "JDUrZUl6L9jN",
        "colab": {
          "base_uri": "https://localhost:8080/"
        },
        "outputId": "4cf809a5-6235-40c8-cad5-8da3d1d29da3"
      },
      "source": [
        "print(x + np.reshape(w, (2, 1)))"
      ],
      "execution_count": 47,
      "outputs": [
        {
          "output_type": "stream",
          "name": "stdout",
          "text": [
            "[[ 5  6  7]\n",
            " [ 9 10 11]]\n"
          ]
        }
      ]
    },
    {
      "cell_type": "code",
      "metadata": {
        "id": "VzrEo4KGL9jP",
        "colab": {
          "base_uri": "https://localhost:8080/"
        },
        "outputId": "a71bb253-eab1-4ada-d919-ab019347bfaa"
      },
      "source": [
        "\n",
        "print(x * 2)"
      ],
      "execution_count": 48,
      "outputs": [
        {
          "output_type": "stream",
          "name": "stdout",
          "text": [
            "[[ 2  4  6]\n",
            " [ 8 10 12]]\n"
          ]
        }
      ]
    },
    {
      "cell_type": "markdown",
      "metadata": {
        "id": "89e2FXxFL9jQ"
      },
      "source": [
        "Broadcasting typically makes your code more concise and faster, so you should strive to use it where possible."
      ]
    },
    {
      "cell_type": "markdown",
      "metadata": {
        "id": "iF3ZtwVNL9jQ"
      },
      "source": []
    }
  ]
}